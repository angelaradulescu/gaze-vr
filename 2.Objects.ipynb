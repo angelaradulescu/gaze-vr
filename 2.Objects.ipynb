{
 "cells": [
  {
   "cell_type": "markdown",
   "metadata": {},
   "source": [
    "The purpose of this notebook is to generate a feature space for gaze prediction based on object level information and perform some object-level exploratory analysis. The output is a dataframe of all gaze samples that occured within a trial."
   ]
  },
  {
   "cell_type": "code",
   "execution_count": 1,
   "metadata": {},
   "outputs": [],
   "source": [
    "import numpy as np\n",
    "import matplotlib.pyplot as plt\n",
    "from matplotlib import cm\n",
    "import seaborn as sns\n",
    "import pandas as pd\n",
    "import visual_search_load\n",
    "import visual_search_preproc\n",
    "import scipy.interpolate\n",
    "import scipy\n",
    "from matplotlib import animation, rc\n",
    "from IPython.display import HTML\n",
    "import imageio\n",
    "from colorspacious import cspace_converter\n",
    "from scipy.io import loadmat\n",
    "from mpl_toolkits import mplot3d\n",
    "import pickle\n",
    "from sklearn.preprocessing import StandardScaler\n",
    "from sklearn.decomposition import PCA\n",
    "import itertools\n",
    "from time import perf_counter \n",
    "from scipy.spatial.distance import cdist"
   ]
  },
  {
   "cell_type": "markdown",
   "metadata": {},
   "source": [
    "### Get some info on object set. "
   ]
  },
  {
   "cell_type": "code",
   "execution_count": 2,
   "metadata": {},
   "outputs": [
    {
     "name": "stdout",
     "output_type": "stream",
     "text": [
      "P2_09262018\n",
      "/Users/angelaradulescu/Dropbox/VisualSearchData/Expt2/P2_09262018_pickled_processed_Behavior.txt\n",
      "/Users/angelaradulescu/Dropbox/VisualSearchData/Expt2/P2_09262018_pickled_processed_Eye.txt\n"
     ]
    }
   ],
   "source": [
    "# Set directory. \n",
    "direc = '/Users/angelaradulescu/Dropbox/VisualSearchData/'\n",
    "equirect_direc = '/Users/angelaradulescu/Dropbox (Facebook)/VisualSearch/VisualSearchSpheres/'\n",
    "\n",
    "# Get participant ID. \n",
    "data_direc, participant_list = visual_search_load.get_direc_participants('Expt2', direc)\n",
    "participant_id = participant_list[0]\n",
    "print(participant_id)\n",
    "\n",
    "# Load data from first participant.\n",
    "data = visual_search_load.load_processed_data_from_pickle(data_direc, participant_id.split(), ['Behavior','Eye'])"
   ]
  },
  {
   "cell_type": "code",
   "execution_count": 3,
   "metadata": {},
   "outputs": [],
   "source": [
    "# Retrieve scenes. \n",
    "all_scenes = [x[1] for x in data[0][\"Behavior\"][\"TrialOrder\"]]\n",
    "\n",
    "# Get object and target sets (these were pre-generated, and scene specific)\n",
    "all_objects = [visual_search_load.get_all_objects(data_direc, x) for x in all_scenes]\n",
    "unique_objects = np.unique(np.array([item for sublist in all_objects for item in sublist]))\n",
    "all_targets = [visual_search_load.get_target_object(data_direc, x) for x in all_scenes]\n",
    "unique_targets = np.unique(all_targets)\n",
    "\n",
    "# Get objects that were never targets. \n",
    "never_targets = np.setdiff1d(unique_objects, unique_targets)"
   ]
  },
  {
   "cell_type": "code",
   "execution_count": 4,
   "metadata": {},
   "outputs": [
    {
     "name": "stdout",
     "output_type": "stream",
     "text": [
      "There were 106 unique objects...\n"
     ]
    }
   ],
   "source": [
    "print('There were ' + str(len(unique_objects)) + ' unique objects...')\n",
    "# print('\\n'.join(unique_objects))"
   ]
  },
  {
   "cell_type": "code",
   "execution_count": 5,
   "metadata": {},
   "outputs": [
    {
     "name": "stdout",
     "output_type": "stream",
     "text": [
      "Of these, 95 were ever targets...\n"
     ]
    }
   ],
   "source": [
    "print('Of these, ' + str(len(unique_targets)) + ' were ever targets...')\n",
    "# print('\\n'.join(unique_targets))"
   ]
  },
  {
   "cell_type": "markdown",
   "metadata": {},
   "source": [
    "### Get object labels and behavior associated with each gaze sample. "
   ]
  },
  {
   "cell_type": "code",
   "execution_count": 7,
   "metadata": {},
   "outputs": [
    {
     "name": "stdout",
     "output_type": "stream",
     "text": [
      "Number of participants: 21\n",
      "P2_09262018\n",
      "/Users/angelaradulescu/Dropbox/VisualSearchData/Expt2/P2_09262018_pickled_processed_Behavior.txt\n",
      "/Users/angelaradulescu/Dropbox/VisualSearchData/Expt2/P2_09262018_pickled_processed_Eye.txt\n"
     ]
    }
   ],
   "source": [
    "n_participants = len(participant_list)\n",
    "print('Number of participants: ' + str(n_participants))\n",
    "\n",
    "gaze_objects = [] \n",
    "gaze_position = [] \n",
    "gaze_objects_location = [] \n",
    "gaze_objects_shape = [] \n",
    "gaze_objects_color = [] \n",
    "\n",
    "# for p in np.arange(n_participants):\n",
    "for p in [0]:\n",
    "\n",
    "    participant_id = participant_list[p]\n",
    "    print(participant_id)\n",
    "    \n",
    "    ## Load data.\n",
    "    data = visual_search_load.load_processed_data_from_pickle(data_direc, participant_id.split(), ['Behavior','Eye'])\n",
    "    gaze_position_data = pd.read_csv(data_direc + participant_id + '_gaze_position.csv') \n",
    "    \n",
    "    ## Epoch eyetracking samples.  \n",
    "    gaze_in_trial = visual_search_preproc.epoch_gaze(data)\n",
    "    \n",
    "    ## Map to object.\n",
    "    objects_looked_at_in_trial = visual_search_preproc.map_gaze_to_objects(data, gaze_in_trial)\n",
    "    \n",
    "    ## Initialize new lists for other variables of interest. \n",
    "    participant = []     # participant\n",
    "    sample_idx = []      # index of sample \n",
    "    trial = []           # trial number\n",
    "    condition = []       # condition\n",
    "    scene = []           # scene indicator \n",
    "    valid = []           # was the object a valid object? (ie can be either the target or distractor on that trial)\n",
    "    target = []          # what is the target label? \n",
    "    is_target = []       # was the object the target? \n",
    "    rt = []              # what was the reaction time? \n",
    "    correct = []         # did the participant correctly identify the target? \n",
    "    \n",
    "    position_single = [] # position variables\n",
    "\n",
    "    ## Prespecify number of trials.\n",
    "    n_trials = 300\n",
    "\n",
    "    for t in np.arange(n_trials): \n",
    "\n",
    "        ## Get number of samples for this trial.\n",
    "        n_samples_this_trial = np.shape(gaze_in_trial[t][0])[0]\n",
    "\n",
    "        ## Append participant number. \n",
    "        # participant.append((np.ones(n_samples_this_trial)*(p+1)).astype(int))\n",
    "        participant.append(np.array([participant_id]*n_samples_this_trial))\n",
    "        \n",
    "        ## Append timepoint indicatpr.\n",
    "        # sample_idx.append(gaze_in_trial[t][0])\n",
    "        sample_idx.append(np.arange(n_samples_this_trial))\n",
    "        \n",
    "        ## Append trial number. \n",
    "        trial.append((np.ones(n_samples_this_trial)*(t+1)).astype(int))\n",
    "        \n",
    "        ## Append condition indicator. \n",
    "        this_condition = data[0][\"Behavior\"][\"Condition\"][t]\n",
    "        condition.append(np.array([this_condition]*n_samples_this_trial))\n",
    "        \n",
    "        ## Append scene indicator.\n",
    "        trial_name = data[0][\"Behavior\"][\"TrialOrder\"][t][1]\n",
    "        scene.append(np.array([trial_name]*n_samples_this_trial))\n",
    "        \n",
    "        ## Append valid indicator. \n",
    "        valid_bool = np.zeros(n_samples_this_trial)\n",
    "        # Compare objects in the room to objects that were looked at. \n",
    "        objects_in_room = visual_search_load.get_all_objects(data_direc,trial_name)\n",
    "        valid_inds = [i for i, e in enumerate(objects_looked_at_in_trial[t]) if e in set(objects_in_room)]\n",
    "        if len(valid_inds): valid_bool[np.array(valid_inds)] = 1\n",
    "        valid.append(valid_bool.astype(int))\n",
    "\n",
    "        ## Append target label.\n",
    "        target_bool = np.zeros(n_samples_this_trial)\n",
    "        target_this_trial = visual_search_load.get_target_object(data_direc,trial_name)\n",
    "        target.append([target_this_trial] * n_samples_this_trial)\n",
    "        \n",
    "        ## Append target indicator.\n",
    "        target_inds = [i for i, e in enumerate(objects_looked_at_in_trial[t]) if e in [target_this_trial]]\n",
    "        if len(target_inds): target_bool[np.array(target_inds)] = 1\n",
    "        is_target.append(target_bool.astype(int))\n",
    "        \n",
    "        ## Append RT. \n",
    "        rt.append((np.ones(n_samples_this_trial)*(data[0][\"Behavior\"][\"ResponseTime\"][t])))\n",
    "        \n",
    "        ## Append correct.\n",
    "        correct.append((np.ones(n_samples_this_trial)*(data[0][\"Behavior\"][\"ResponseTime\"][t] < 8)).astype(int))\n",
    "        \n",
    "        ## Append position.\n",
    "        position_single.append(gaze_position_data.iloc[gaze_in_trial[t][0]])\n",
    "        \n",
    "    ## Create single participant dataframes. \n",
    "    gaze_objects_single = pd.DataFrame(np.hstack(participant), columns=['participant'])\n",
    "    gaze_objects_single['timepoint'] = np.hstack(sample_idx) \n",
    "    gaze_objects_single['trial'] = np.hstack(trial) \n",
    "    gaze_objects_single['condition'] = np.hstack(condition) \n",
    "    gaze_objects_single['scene'] = np.hstack(scene) \n",
    "    gaze_objects_single['object'] = np.hstack(objects_looked_at_in_trial)\n",
    "    gaze_objects_single['valid'] = np.hstack(valid)\n",
    "    gaze_objects_single['target'] = np.hstack(target)\n",
    "    gaze_objects_single['is_target'] = np.hstack(is_target)\n",
    "    gaze_objects_single['rt'] = np.hstack(rt)\n",
    "    gaze_objects_single['correct'] = np.hstack(correct)\n",
    "    \n",
    "    ## Append to main dataframes. \n",
    "    # Objects.\n",
    "    gaze_objects.append(gaze_objects_single)\n",
    "    # Position. \n",
    "    position_single = pd.concat(position_single).reset_index()\n",
    "    position_single.insert(0, 'participant', np.hstack(participant))\n",
    "    position_single.insert(1, 'sample_idx', np.hstack(sample_idx))\n",
    "    position_single.insert(2, 'trial', np.hstack(trial)) \n",
    "    gaze_position.append(position_single)\n",
    "\n",
    "## Concatenate dataframes.\n",
    "gaze_objects = pd.concat(gaze_objects).reset_index()\n",
    "gaze_position = pd.concat(gaze_position).reset_index()\n",
    "gaze_objects = gaze_objects.drop(['index'], axis=1)\n",
    "gaze_position = gaze_position.drop(['level_0'], axis=1)\n",
    "gaze_position = gaze_position.drop(['index'], axis=1)\n",
    "\n",
    "## Save.\n",
    "# gaze_objects.to_csv('data/gaze_objects.csv', index=False)\n",
    "# gaze_position.to_csv('data/gaze_position.csv', index=False)"
   ]
  },
  {
   "cell_type": "markdown",
   "metadata": {},
   "source": [
    "### Construct and save object location by scene dataframe. "
   ]
  },
  {
   "cell_type": "code",
   "execution_count": 35,
   "metadata": {},
   "outputs": [],
   "source": [
    "## Loop over scenes.\n",
    "scene = []\n",
    "obj_idx = []\n",
    "objects_by_scene = [] \n",
    "object_locations_by_scene_3d = []\n",
    "object_locations_by_scene_polar = []\n",
    "\n",
    "## Loop thru scenes.\n",
    "for s in all_scenes:\n",
    "    \n",
    "    ## Get objects and their features. \n",
    "    objects_in_scene = visual_search_load.get_all_objects(data_direc, s)\n",
    "    object_locations = visual_search_load.get_object_locations(data_direc, s)\n",
    "    object_locations = np.vstack([np.asarray(object_locations[o][1:-1].split(',')).astype(float) for o in np.arange(len(object_locations))])\n",
    "    \n",
    "    n_obj = len(object_locations)\n",
    "    scene_indicator = [s] * n_obj\n",
    "    obj_indicator = np.arange(n_obj)\n",
    "    \n",
    "    ## Get camera locations for this trial.\n",
    "    camera_locations = visual_search_load.load_camera_location(data_direc)\n",
    "    camera_location_at_trial_start = camera_locations[s.split(' Trial ')[0]][0]\n",
    "    camera_rotation_at_trial_start = camera_locations[s.split(' Trial ')[0]][1]\n",
    "    camera_locations_at_trial_start = np.tile(camera_location_at_trial_start, (n_obj,1))\n",
    "    camera_rotations_at_trial_start = np.tile(camera_rotation_at_trial_start, (n_obj,1))\n",
    "\n",
    "    ## Subtract camera location and convert to polar.\n",
    "    pos_from_camera = visual_search_preproc.rotate_gaze(camera_rotations_at_trial_start,object_locations-camera_locations_at_trial_start)\n",
    "    pos_from_camera_polar = visual_search_preproc.convert_to_polar(visual_search_preproc.normalize(pos_from_camera))\n",
    "  \n",
    "    ## Append.\n",
    "    scene.append(scene_indicator)\n",
    "    obj_idx.append(obj_indicator)\n",
    "    objects_by_scene.append(objects_in_scene)\n",
    "    object_locations_by_scene_3d.append(pos_from_camera)\n",
    "    object_locations_by_scene_polar.append(pos_from_camera_polar)\n",
    "\n",
    "object_location = pd.DataFrame(np.hstack(scene), columns=['scene'])\n",
    "object_location['object'] = np.hstack(objects_by_scene)\n",
    "object_location['object_idx'] = np.hstack(np.hstack(obj_idx))\n",
    "object_location['x'] = np.vstack(object_locations_by_scene_3d)[:,0]\n",
    "object_location['y'] = np.vstack(object_locations_by_scene_3d)[:,1]\n",
    "object_location['z'] = np.vstack(object_locations_by_scene_3d)[:,2]\n",
    "object_location['r_polar'] = np.vstack(object_locations_by_scene_polar)[:,0]\n",
    "object_location['theta_polar'] = np.vstack(object_locations_by_scene_polar)[:,1]\n",
    "object_location['x_pos_pixel_360'] = np.round((object_location['r_polar'].values+np.pi)*(4096/np.pi))\n",
    "object_location['y_pos_pixel_360'] = np.round((-object_location['theta_polar'].values+np.pi/2)*(4096/np.pi))\n",
    "\n",
    "## Save.\n",
    "object_location.to_csv('data/location/location_all_objects.csv', index=False)"
   ]
  },
  {
   "cell_type": "code",
   "execution_count": 37,
   "metadata": {},
   "outputs": [
    {
     "data": {
      "image/png": "[encoded data removed]",
      "text/plain": [
       "<Figure size 720x720 with 1 Axes>"
      ]
     },
     "metadata": {
      "needs_background": "light"
     },
     "output_type": "display_data"
    }
   ],
   "source": [
    "## Plot egocentric 3D coords for last scene.\n",
    "\n",
    "zdata = pos_from_camera[:,2]\n",
    "xdata = pos_from_camera[:,0]\n",
    "ydata = pos_from_camera[:,1]\n",
    "\n",
    "fig = plt.figure(figsize=(10,10))\n",
    "ax = plt.axes(projection='3d')\n",
    "ax.scatter3D(xdata, ydata, zdata, c=zdata, cmap='Blues')\n",
    "ax.scatter3D(0, 0, 0, color=\"r\", s=100)\n",
    "\n",
    "ax.set_xlabel('X')\n",
    "ax.set_ylabel('Y')\n",
    "ax.set_zlabel('Z');"
   ]
  },
  {
   "cell_type": "markdown",
   "metadata": {},
   "source": [
    "### Add fixated/nearest object info. "
   ]
  },
  {
   "cell_type": "code",
   "execution_count": 11,
   "metadata": {},
   "outputs": [],
   "source": [
    "## Load object and feature dataframes. \n",
    "\n",
    "gaze_objects = pd.read_csv('data/gaze_objects.csv')\n",
    "gaze_position = pd.read_csv('data/gaze_position.csv')\n",
    "object_location = pd.read_csv('data/location/location_all_objects.csv')\n",
    "# object_shape = pd.read_csv('data/shape/shape_PCA_95_l2/shape_pca_all_objects.csv',index_col=0)\n",
    "# object_color = pd.read_csv('data/color/color_PCA_95_l2/color_pca_all_objects.csv',index_col=0)\n",
    "\n",
    "## Add timestamp. \n",
    "gaze_objects.insert(2,'timestamp',np.round(gaze_position['timestamp'].values,4))\n",
    "gaze_objects.insert(3,'frame',gaze_position['frame'])\n",
    "\n",
    "## Add position info. \n",
    "gaze_objects['gaze_x_pos_pixel_vid'] = gaze_position['x_pos_pixel'].values\n",
    "gaze_objects['gaze_y_pos_pixel_vid'] = gaze_position['y_pos_pixel'].values\n",
    "gaze_objects['gaze_pos_r_polar'] = np.round(gaze_position['r_polar'].values, decimals=4)\n",
    "gaze_objects['gaze_pos_theta_polar'] = np.round(gaze_position['theta_polar'].values, decimals=4)\n",
    "gaze_objects['gaze_x_pos_pixel_360'] = gaze_position['x_pos_pixel_360'].values\n",
    "gaze_objects['gaze_y_pos_pixel_360'] = gaze_position['y_pos_pixel_360'].values\n",
    "# gaze_objects['gaze_pos_geo_lat'] = np.round(gaze_position['mu_latitude'].values, decimals=4)\n",
    "# gaze_objects['gaze_pos_geo_long'] = np.round(gaze_position['beta_longitude'].values, decimals=4)\n",
    "\n",
    "## Replace invalid values with NaN.\n",
    "gaze_objects = gaze_objects.replace(-999, np.nan)"
   ]
  },
  {
   "cell_type": "code",
   "execution_count": 2,
   "metadata": {},
   "outputs": [
    {
     "ename": "NameError",
     "evalue": "name 'gaze_objects' is not defined",
     "output_type": "error",
     "traceback": [
      "\u001b[0;31m---------------------------------------------------------------------------\u001b[0m",
      "\u001b[0;31mNameError\u001b[0m                                 Traceback (most recent call last)",
      "\u001b[0;32m<ipython-input-2-da8f6390b6ac>\u001b[0m in \u001b[0;36m<module>\u001b[0;34m\u001b[0m\n\u001b[0;32m----> 1\u001b[0;31m \u001b[0msample\u001b[0m \u001b[0;34m=\u001b[0m \u001b[0mgaze_objects\u001b[0m\u001b[0;34m[\u001b[0m\u001b[0mgaze_objects\u001b[0m\u001b[0;34m[\u001b[0m\u001b[0;34m'participant'\u001b[0m\u001b[0;34m]\u001b[0m \u001b[0;34m==\u001b[0m \u001b[0mparticipant_list\u001b[0m\u001b[0;34m[\u001b[0m\u001b[0;36m0\u001b[0m\u001b[0;34m]\u001b[0m\u001b[0;34m]\u001b[0m\u001b[0;34m\u001b[0m\u001b[0;34m\u001b[0m\u001b[0m\n\u001b[0m\u001b[1;32m      2\u001b[0m \u001b[0msample\u001b[0m\u001b[0;34m.\u001b[0m\u001b[0mcolumn\u001b[0m\u001b[0;34m\u001b[0m\u001b[0;34m\u001b[0m\u001b[0m\n",
      "\u001b[0;31mNameError\u001b[0m: name 'gaze_objects' is not defined"
     ]
    }
   ],
   "source": [
    "sample = gaze_objects[gaze_objects['participant'] == participant_list[0]]\n",
    "sample.column"
   ]
  },
  {
   "cell_type": "markdown",
   "metadata": {},
   "source": [
    "#### Location.\n",
    "Here, we need to deal with the issue of object clones. The object label (HitObject) is obtained by casting a ray in the Unity scene from the origin of gaze (GazeLocation) in the direction of gaze (GazeDirection), and recording the label of the object hit by the ray. \n",
    "\n",
    "At the moment, this information is ambiguous with respect to the scene information files, because each scene may contain several clones of the same object (e.g. one scene may have 2 rubber ducks). To record the location associated with the object being fixated at a given time, we loop over scenes and objects, and record info of the clone nearest to the current gaze position. \n",
    "\n",
    "This means that: \n",
    "* For times when the ray hit a valid object, the \"nearest_obj\" column should be redundant with the \"object\" column, and the \"nearest_obj\" location columns correspond to the object being fixated.  \n",
    "* For times when the ray hit an invalid object, (ie not in the set of possible targets/distractors; things like walls and tables), this allows us to record the properties of the nearest object (n.b., nearest object might be occluded). "
   ]
  },
  {
   "cell_type": "code",
   "execution_count": null,
   "metadata": {},
   "outputs": [],
   "source": [
    "## Add nearest fixated object location. \n",
    "# Beware, loop takes ~1.5hrs because we need to account for object clones.\n",
    "t_start = perf_counter()\n",
    "\n",
    "for s in all_scenes:\n",
    "    \n",
    "    print(s)\n",
    "    \n",
    "    ## Get objects in this scene. \n",
    "    objects_in_scene = np.unique(object_location[object_location['scene'] == s]['object'].values)\n",
    "    \n",
    "    for o in objects_in_scene:\n",
    "        \n",
    "        ## Subset gaze data for which we were in the scene and looking at object o.  \n",
    "        gaze_objects_scene_obj = gaze_objects[(gaze_objects['scene'] == s) & (gaze_objects['object'] == o)]\n",
    "        \n",
    "        ## Check if people never looked at the object in a given scene. \n",
    "        if len(gaze_objects_scene_obj) > 0:\n",
    "                \n",
    "            ## Get position array.\n",
    "            gaze_pos_scene_obj = np.vstack(gaze_objects_scene_obj[['gaze_x_pos_pixel_360', 'gaze_y_pos_pixel_360']].values)\n",
    "\n",
    "            ## Get object locations for the object -- note that there may be multiple clones. \n",
    "            obj_loc_this_scene = object_location[(object_location['scene'] == s) & (object_location['object'] == o)].reset_index(drop=True)          \n",
    "            obj_pos_this_scene = obj_loc_this_scene[['x_pos_pixel_360', 'y_pos_pixel_360']].values\n",
    "\n",
    "            ## Get properties of the nearest clone. \n",
    "            nearest_obj_idx = np.argmin(cdist(gaze_pos_scene_obj,obj_pos_this_scene),1)\n",
    "            locs = obj_loc_this_scene.loc[nearest_obj_idx]\n",
    "            \n",
    "            ## Get object index within scene file (to help us distinguish object clones later).\n",
    "            this_scene = object_location[(object_location['scene'] == s)]\n",
    "\n",
    "            ## Fill into dataframe. \n",
    "            row_index = gaze_objects_scene_obj.index\n",
    "            gaze_objects.loc[row_index, 'nearest_obj'] = locs['object'].values\n",
    "            gaze_objects.loc[row_index, 'nearest_obj_idx_within_scene'] = locs['object_idx'].values\n",
    "            gaze_objects.loc[row_index, 'nearest_obj_loc_r_polar'] = np.round(locs['r_polar'].values, decimals=4)\n",
    "            gaze_objects.loc[row_index, 'nearest_obj_loc_theta_polar'] = np.round(locs['theta_polar'].values, decimals=4)\n",
    "            gaze_objects.loc[row_index, 'nearest_obj_x_loc_pixel_360'] = locs['x_pos_pixel_360'].values\n",
    "            gaze_objects.loc[row_index, 'nearest_obj_y_loc_pixel_360'] = locs['y_pos_pixel_360'].values\n",
    "\n",
    "    ## Subset gaze data for which people were not looking at valid objects. \n",
    "    gaze_objects_scene_other = gaze_objects[(gaze_objects['scene'] == s) & pd.notna(gaze_objects['object']) & (gaze_objects['valid'] == 0)]\n",
    "\n",
    "    ## Get position array. \n",
    "    gaze_pos_scene_other = np.vstack(gaze_objects_scene_other[['gaze_x_pos_pixel_360', 'gaze_y_pos_pixel_360']].values)\n",
    "    all_obj_loc_this_scene = object_location[(object_location['scene'] == s)].reset_index(drop=True)    \n",
    "    all_obj_pos_this_scene = all_obj_loc_this_scene[['x_pos_pixel_360', 'y_pos_pixel_360']].values\n",
    "    \n",
    "    ## Get properties of the object nearest to current gaze point.\n",
    "    nearest_idx = np.argmin(cdist(gaze_pos_scene_other, all_obj_pos_this_scene),1)\n",
    "    locs = all_obj_loc_this_scene.loc[nearest_idx].reset_index(drop=True)\n",
    "    \n",
    "    ## Fill into dataframe. \n",
    "    row_index = gaze_objects_scene_other.index\n",
    "    gaze_objects.loc[row_index, 'nearest_obj'] = locs['object'].values\n",
    "    gaze_objects.loc[row_index, 'nearest_obj_idx_within_scene'] = locs['object_idx'].values\n",
    "    gaze_objects.loc[row_index, 'nearest_obj_loc_r_polar'] = np.round(locs['r_polar'].values, decimals=4)\n",
    "    gaze_objects.loc[row_index, 'nearest_obj_loc_theta_polar'] = np.round(locs['theta_polar'].values, decimals=4)\n",
    "    gaze_objects.loc[row_index, 'nearest_obj_x_loc_pixel_360'] = locs['x_pos_pixel_360'].values\n",
    "    gaze_objects.loc[row_index, 'nearest_obj_y_loc_pixel_360'] = locs['y_pos_pixel_360'].values\n",
    "    \n",
    "t_stop = perf_counter() \n",
    "print(\"Elapsed time: \", str(t_stop-t_start) + ' seconds')  "
   ]
  },
  {
   "cell_type": "code",
   "execution_count": null,
   "metadata": {},
   "outputs": [],
   "source": [
    "# Intermediary save.\n",
    "gaze_objects.to_csv('data/gaze_objects_temp.csv', index=False)"
   ]
  },
  {
   "cell_type": "code",
   "execution_count": null,
   "metadata": {},
   "outputs": [],
   "source": [
    "# Intermediary load.\n",
    "# ~ 11 seconds\n",
    "t_start = perf_counter()\n",
    "gaze_objects = pd.read_csv('data/gaze_objects_temp.csv')\n",
    "t_stop = perf_counter() \n",
    "print(\"Elapsed time: \", str(t_stop-t_start) + ' seconds') "
   ]
  },
  {
   "cell_type": "code",
   "execution_count": null,
   "metadata": {},
   "outputs": [],
   "source": [
    "gaze_objects = gaze_objects[gaze_objects['condition'] == 'No'].reset_index(drop=True)\n",
    "gaze_objects.groupby(['participant'])['trial'].value_counts()"
   ]
  },
  {
   "cell_type": "markdown",
   "metadata": {},
   "source": [
    "#### Shape & color. "
   ]
  },
  {
   "cell_type": "code",
   "execution_count": null,
   "metadata": {},
   "outputs": [],
   "source": [
    "## Keep only first 3 PCs in shape. \n",
    "all_objects = object_shape.index.values\n",
    "shape_pcs_to_drop = np.arange(3,82).tolist()\n",
    "shape_pcs_to_drop = [str(i) for i in shape_pcs_to_drop]\n",
    "object_shape = object_shape.drop(labels=shape_pcs_to_drop,axis=1)\n",
    "object_shape.columns = ['shape_pc1', 'shape_pc2', 'shape_pc3']\n",
    "# object_shape.insert(0, 'object', all_objects)\n",
    "\n",
    "## Keep only first 3 PCs in color. \n",
    "color_pcs_to_drop = np.arange(3,30).tolist()\n",
    "color_pcs_to_drop = [str(i) for i in color_pcs_to_drop]\n",
    "object_color = object_color.drop(labels=color_pcs_to_drop,axis=1)\n",
    "object_color.columns = ['color_pc1', 'color_pc2', 'color_pc3']\n",
    "# object_color.insert(0, 'object', all_objects)\n",
    "\n",
    "## Add to dataframe. \n",
    "gaze_objects_of = gaze_objects.merge(object_shape, how='left', left_on='nearest_obj', right_on='object')\n",
    "gaze_objects_of = gaze_objects_of.merge(object_color, how='left', left_on='nearest_obj', right_on='object')\n",
    "\n",
    "gaze_objects['obj_shape_1'] = np.round(gaze_objects_of['shape_pc1'].values, decimals=4)\n",
    "gaze_objects['obj_shape_2'] = np.round(gaze_objects_of['shape_pc2'].values, decimals=4)\n",
    "gaze_objects['obj_shape_3'] = np.round(gaze_objects_of['shape_pc3'].values, decimals=4)\n",
    "gaze_objects['obj_color_1'] = np.round(gaze_objects_of['color_pc1'].values, decimals=4)\n",
    "gaze_objects['obj_color_2'] = np.round(gaze_objects_of['color_pc2'].values, decimals=4)\n",
    "gaze_objects['obj_color_3'] = np.round(gaze_objects_of['color_pc3'].values, decimals=4)"
   ]
  },
  {
   "cell_type": "markdown",
   "metadata": {},
   "source": [
    "### Add target features."
   ]
  },
  {
   "cell_type": "markdown",
   "metadata": {},
   "source": [
    "#### Location. "
   ]
  },
  {
   "cell_type": "code",
   "execution_count": null,
   "metadata": {},
   "outputs": [],
   "source": [
    "for s in all_scenes:\n",
    "\n",
    "    ## Get target in this scene (always the first object listed in the scene info).\n",
    "    scene_target_info = object_location[object_location['scene'] == s].reset_index().loc[0]\n",
    "    target_name = scene_target_info['object']\n",
    "    \n",
    "    ## Get gaze samples for this scene.\n",
    "    gaze_objects_scene = gaze_objects[(gaze_objects['scene'] == s)]\n",
    "    \n",
    "    ## Fill into dataframe. \n",
    "    row_index = gaze_objects_scene.index\n",
    "    gaze_objects.loc[row_index, 'target_loc_r_polar'] = np.round(scene_target_info['r_polar'], decimals=4)\n",
    "    gaze_objects.loc[row_index, 'target_loc_theta_polar'] = np.round(scene_target_info['theta_polar'], decimals=4)\n",
    "    gaze_objects.loc[row_index, 'target_x_loc_pixel_360'] = scene_target_info['x_pos_pixel_360']\n",
    "    gaze_objects.loc[row_index, 'target_y_loc_pixel_360'] = scene_target_info['y_pos_pixel_360']"
   ]
  },
  {
   "cell_type": "markdown",
   "metadata": {},
   "source": [
    "#### Shape & color. "
   ]
  },
  {
   "cell_type": "code",
   "execution_count": null,
   "metadata": {},
   "outputs": [],
   "source": [
    "gaze_objects_tf = gaze_objects.merge(object_shape, how='left', left_on='target', right_on='object')\n",
    "gaze_objects_tf = gaze_objects_tf.merge(object_color, how='left', left_on='target', right_on='object')\n",
    "\n",
    "gaze_objects['target_shape_1'] = np.round(gaze_objects_tf['shape_pc1'].values, decimals=4)\n",
    "gaze_objects['target_shape_2'] = np.round(gaze_objects_tf['shape_pc2'].values, decimals=4)\n",
    "gaze_objects['target_shape_3'] = np.round(gaze_objects_tf['shape_pc3'].values, decimals=4)\n",
    "gaze_objects['target_color_1'] = np.round(gaze_objects_tf['color_pc1'].values, decimals=4)\n",
    "gaze_objects['target_color_2'] = np.round(gaze_objects_tf['color_pc2'].values, decimals=4)\n",
    "gaze_objects['target_color_3'] = np.round(gaze_objects_tf['color_pc3'].values, decimals=4)"
   ]
  },
  {
   "cell_type": "markdown",
   "metadata": {},
   "source": [
    "### Save."
   ]
  },
  {
   "cell_type": "code",
   "execution_count": null,
   "metadata": {},
   "outputs": [],
   "source": [
    "# ~2 min\n",
    "t_start = perf_counter()\n",
    "gaze_objects['scene'] = gaze_objects['scene'].astype(str) \n",
    "gaze_objects.to_csv('data/gaze_objects_with_features.csv', index=False)\n",
    "t_stop = perf_counter() \n",
    "print(\"Elapsed time: \", str(t_stop-t_start) + ' seconds') "
   ]
  },
  {
   "cell_type": "code",
   "execution_count": null,
   "metadata": {},
   "outputs": [],
   "source": [
    "gaze_objects.head(10)"
   ]
  },
  {
   "cell_type": "markdown",
   "metadata": {},
   "source": [
    "### Load.\n",
    "\n",
    "To-do: move the below to the model-free analysis code. "
   ]
  },
  {
   "cell_type": "code",
   "execution_count": null,
   "metadata": {},
   "outputs": [],
   "source": [
    "# ~ 11 seconds\n",
    "t_start = perf_counter()\n",
    "gaze_objects = pd.read_csv('data/gaze_objects_with_features.csv')\n",
    "t_stop = perf_counter() \n",
    "print(\"Elapsed time: \", str(t_stop-t_start) + ' seconds') "
   ]
  },
  {
   "cell_type": "markdown",
   "metadata": {},
   "source": [
    "### What is the distribution of samples across valid objects? \n",
    "\n",
    "Of the times people look at valid objects, how often are particular objects looked at by category? "
   ]
  },
  {
   "cell_type": "code",
   "execution_count": null,
   "metadata": {},
   "outputs": [],
   "source": [
    "df = gaze_objects[gaze_objects['valid'] == 1].groupby('object', as_index=False)['valid'].count()\n",
    "\n",
    "fig, ax = plt.subplots(figsize=(25,8));\n",
    "sns.barplot(x=df['object'], y=df['valid']/np.sum(df['valid'].values), palette=\"deep\");\n",
    "plt.xticks(rotation=90, fontsize=15)\n",
    "plt.yticks(fontsize=20)\n",
    "plt.xlabel('Object', fontsize=30)\n",
    "plt.ylabel('Percent looked at', fontsize=30)\n",
    "sns.despine()"
   ]
  },
  {
   "cell_type": "markdown",
   "metadata": {},
   "source": [
    "### How often were different objects the target? "
   ]
  },
  {
   "cell_type": "code",
   "execution_count": null,
   "metadata": {},
   "outputs": [],
   "source": [
    "## Pivot to one row per trial. \n",
    "df = gaze_objects.groupby(['participant','trial'])['target'].value_counts().reset_index(level=(0,1))\n",
    "\n",
    "## Get target label for each trial and count.\n",
    "df['target_id'] = df.index.values\n",
    "df = df.groupby('target_id', as_index = False).count()\n",
    "\n",
    "## Add objects that were never the target. \n",
    "df_aux = pd.DataFrame({\"target_id\": never_targets, \n",
    "                       \"participant\": 0, \n",
    "                       \"trial\": 0, \n",
    "                       \"target\": 0})\n",
    "df = df.append(df_aux).sort_values('target_id')\n",
    "\n",
    "fig, ax = plt.subplots(figsize=(25,8));\n",
    "sns.barplot(x=df['target_id'], y=df['target']/23, palette='deep');\n",
    "plt.xticks(rotation=90, fontsize=15)\n",
    "plt.yticks(fontsize=20)\n",
    "plt.xlabel('Object', fontsize=30)\n",
    "plt.ylabel('Trials per participant', fontsize=30)\n",
    "sns.despine()"
   ]
  },
  {
   "cell_type": "markdown",
   "metadata": {},
   "source": [
    "### Percent correct by target: are certain targets easier than others? "
   ]
  },
  {
   "cell_type": "code",
   "execution_count": null,
   "metadata": {},
   "outputs": [],
   "source": [
    "## Pivot to one row per trial.\n",
    "df = gaze_objects.groupby(['participant','trial','target'])['correct'].value_counts().reset_index(level=(0,1,2))\n",
    "df['correct_new'] = df.index.values\n",
    "\n",
    "## Average by object within participant.\n",
    "df = df.groupby(['participant', 'target'], as_index=False)['correct_new'].mean()\n",
    "\n",
    "## Average across participants and sort -- this loses the between-subjects error.\n",
    "df = df.groupby(['target'], as_index=False)['correct_new'].mean().sort_values(['correct_new'])\n",
    "\n",
    "fig, ax = plt.subplots(figsize=(25,8));\n",
    "sns.barplot(x=\"target\", y=\"correct_new\", data=df,  palette=\"Blues_d\")\n",
    "plt.xticks(rotation=90, fontsize=15)\n",
    "plt.yticks(fontsize=20)\n",
    "plt.xlabel('Object', fontsize=30)\n",
    "plt.ylabel('Percent correct', fontsize=30)\n",
    "plt.axhline(y=df['correct_new'].mean(), color='k', linestyle='--')\n",
    "sns.despine()"
   ]
  },
  {
   "cell_type": "markdown",
   "metadata": {},
   "source": [
    "### How does the sample distribution change as a function of target? \n",
    "\n",
    "Need to figure out how to control by distractor presence: currently the count is only over all objects that people could have looked at, irrespective of whether the object was present in the trial or not. "
   ]
  },
  {
   "cell_type": "code",
   "execution_count": null,
   "metadata": {},
   "outputs": [],
   "source": [
    "## Count number of samples.\n",
    "df = gaze_objects.loc[(gaze_objects['target'] == 'Pear') & (gaze_objects['valid'] == 1)]\n",
    "df = df.groupby('object', as_index=False)['valid'].count()\n",
    "\n",
    "## Get objects that were not examined for this target. \n",
    "not_examined = np.setdiff1d(unique_objects, df['object'])\n",
    "\n",
    "## Add unexamined objects.\n",
    "df_aux = pd.DataFrame({\"object\": not_examined, \"valid\": 0}) \n",
    "df = df.append(df_aux)\n",
    "\n",
    "## Sort alphabetically.\n",
    "df = df.sort_values('object')\n",
    "\n",
    "fig, ax = plt.subplots(figsize=(25,8));\n",
    "sns.barplot(x=df['object'], y=df['valid']/np.sum(df['valid'].values), palette=\"deep\");\n",
    "plt.xticks(rotation=90, fontsize=15)\n",
    "plt.yticks(fontsize=20)\n",
    "plt.xlabel('Object', fontsize=30)\n",
    "plt.ylabel('Percent looked at', fontsize=30)\n",
    "ax.set_ylim(0,0.6)\n",
    "sns.despine()"
   ]
  }
 ],
 "metadata": {
  "kernelspec": {
   "display_name": "Python 3",
   "language": "python",
   "name": "python3"
  },
  "language_info": {
   "codemirror_mode": {
    "name": "ipython",
    "version": 3
   },
   "file_extension": ".py",
   "mimetype": "text/x-python",
   "name": "python",
   "nbconvert_exporter": "python",
   "pygments_lexer": "ipython3",
   "version": "3.8.5"
  }
 },
 "nbformat": 4,
 "nbformat_minor": 2
}
