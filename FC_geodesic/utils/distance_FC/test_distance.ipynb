{
 "cells": [
  {
   "cell_type": "code",
   "execution_count": 1,
   "metadata": {},
   "outputs": [],
   "source": [
    "from distance_FC import distance_FC\n",
    "import scipy.io as sio\n",
    "import numpy as np"
   ]
  },
  {
   "cell_type": "code",
   "execution_count": 2,
   "metadata": {},
   "outputs": [],
   "source": [
    "data = sio.loadmat('test_distance.mat')\n",
    "results = data['test_distance']\n",
    "FC1 = results[0]['FC1'][0]\n",
    "FC2 = results[0]['FC2'][0]\n",
    "dist_geo = results[0]['dist_geo'][0]\n",
    "dist_pearson = results[0]['dist_pearson'][0]"
   ]
  },
  {
   "cell_type": "code",
   "execution_count": 3,
   "metadata": {},
   "outputs": [],
   "source": [
    "dist = distance_FC(FC1, FC2)"
   ]
  },
  {
   "cell_type": "code",
   "execution_count": 4,
   "metadata": {},
   "outputs": [],
   "source": [
    "geo = dist.geodesic()\n",
    "pearson = dist.pearson()"
   ]
  },
  {
   "cell_type": "code",
   "execution_count": 6,
   "metadata": {},
   "outputs": [
    {
     "name": "stdout",
     "output_type": "stream",
     "text": [
      "37.90926896922379\n",
      "[[37.90926897]]\n",
      "0.292104505406242\n",
      "0.29210450540624205\n"
     ]
    }
   ],
   "source": [
    "print(geo)\n",
    "print(np.sqrt(dist_geo))\n",
    "\n",
    "print(pearson)\n",
    "print(dist_pearson[0][0])"
   ]
  },
  {
   "cell_type": "code",
   "execution_count": null,
   "metadata": {},
   "outputs": [],
   "source": []
  }
 ],
 "metadata": {
  "kernelspec": {
   "display_name": "Python 3",
   "language": "python",
   "name": "python3"
  },
  "language_info": {
   "codemirror_mode": {
    "name": "ipython",
    "version": 3
   },
   "file_extension": ".py",
   "mimetype": "text/x-python",
   "name": "python",
   "nbconvert_exporter": "python",
   "pygments_lexer": "ipython3",
   "version": "3.6.8"
  }
 },
 "nbformat": 4,
 "nbformat_minor": 2
}
